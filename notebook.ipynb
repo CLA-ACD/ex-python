{
 "cells": [
  {
   "cell_type": "markdown",
   "metadata": {},
   "source": [
    "# Área de un triángulo\n",
    "\n",
    "Programa una función que calcule el área de un triángulo a partir de su base y su altura."
   ]
  },
  {
   "cell_type": "code",
   "execution_count": null,
   "metadata": {},
   "outputs": [
    {
     "name": "stdout",
     "output_type": "stream",
     "text": [
      "9.0\n",
      "5.0\n",
      "14.0\n"
     ]
    }
   ],
   "source": [
    "# Función que calcula el área de un triángulo a partir de la base y la altura\n",
    "\n",
    "def area_triangulo(base, altura):\n",
    "    pass\n",
    "\n",
    "# Pruebas\n",
    "print(area_triangulo(3, 6)) # 9.0\n",
    "print(area_triangulo(2, 5)) # 5.0\n",
    "print(area_triangulo(7, 4)) # 14.0"
   ]
  },
  {
   "cell_type": "markdown",
   "metadata": {},
   "source": [
    "# El mayor de tres números\n",
    "\n",
    "Programa una función que reciba tres números y devuelva el mayor usando condicionales"
   ]
  },
  {
   "cell_type": "code",
   "execution_count": null,
   "metadata": {},
   "outputs": [
    {
     "name": "stdout",
     "output_type": "stream",
     "text": [
      "9\n",
      "9\n",
      "9\n"
     ]
    }
   ],
   "source": [
    "# Función que reciba tres números y devuelva el mayor de los tres usando condicionales\n",
    "\n",
    "def mayor_de_tres(a, b, c):\n",
    "    pass\n",
    "    \n",
    "# Pruebas\n",
    "\n",
    "print(mayor_de_tres(3, 6, 9)) # 9\n",
    "print(mayor_de_tres(9, 6, 3)) # 9\n",
    "print(mayor_de_tres(3, 9, 6)) # 9\n",
    "\n"
   ]
  },
  {
   "cell_type": "markdown",
   "metadata": {},
   "source": [
    "# Contar los impares de una lista usando ciclos\n",
    "\n",
    "Programa una función que reciba una lista de números y devuelva la cantidad de números impares que contiene."
   ]
  },
  {
   "cell_type": "code",
   "execution_count": null,
   "metadata": {},
   "outputs": [
    {
     "name": "stdout",
     "output_type": "stream",
     "text": [
      "3\n",
      "0\n",
      "5\n"
     ]
    }
   ],
   "source": [
    "# Función que reciba una lista de números y devuelva la cantidad de números impares que contiene\n",
    "\n",
    "def cantidad_impares(lista):\n",
    "    pass\n",
    "\n",
    "# Pruebas\n",
    "\n",
    "print(cantidad_impares([1, 2, 3, 4, 5])) # 3\n",
    "print(cantidad_impares([2, 4, 6, 8, 10])) # 0\n",
    "print(cantidad_impares([1, 3, 5, 7, 9])) # 5"
   ]
  },
  {
   "cell_type": "markdown",
   "metadata": {},
   "source": [
    "# Factorial de un número\n",
    "\n",
    "Programa una función que calcule el factorial de un número (El factorial de un entero positivo n, se define como el producto de todos los números enteros positivos desde 1 hasta n). El factorial de 0 es 1. La función debe usar condicionales y ciclos."
   ]
  },
  {
   "cell_type": "code",
   "execution_count": null,
   "metadata": {},
   "outputs": [
    {
     "name": "stdout",
     "output_type": "stream",
     "text": [
      "1\n",
      "1\n",
      "2\n",
      "6\n"
     ]
    }
   ],
   "source": [
    "# Función que calcula el factorial de cualquier entero no negativo\n",
    "\n",
    "def factorial(n):\n",
    "    pass\n",
    "\n",
    "# Pruebas\n",
    "\n",
    "print(factorial(0)) # 1\n",
    "print(factorial(1)) # 1\n",
    "print(factorial(2)) # 2\n",
    "print(factorial(3)) # 6"
   ]
  },
  {
   "cell_type": "markdown",
   "metadata": {},
   "source": [
    "# Palíndromo\n",
    "\n",
    "Programa una función que reciba una cadena de texto y devuelva si es un palíndromo (una palabra o frase que se lee igual de izquierda a derecha que de derecha a izquierda).\n"
   ]
  },
  {
   "cell_type": "code",
   "execution_count": null,
   "metadata": {},
   "outputs": [
    {
     "name": "stdout",
     "output_type": "stream",
     "text": [
      "True\n",
      "False\n",
      "True\n"
     ]
    }
   ],
   "source": [
    "# Función que determina si un string es palíndromo\n",
    "\n",
    "def es_palindromo(palabra):\n",
    "    pass\n",
    "\n",
    "# Pruebas\n",
    "\n",
    "print(es_palindromo(\"reconocer\")) # True\n",
    "print(es_palindromo(\"hola\")) # False\n",
    "print(es_palindromo(\"anitalavalatina\")) # True"
   ]
  }
 ],
 "metadata": {
  "kernelspec": {
   "display_name": "Python 3",
   "language": "python",
   "name": "python3"
  },
  "language_info": {
   "codemirror_mode": {
    "name": "ipython",
    "version": 3
   },
   "file_extension": ".py",
   "mimetype": "text/x-python",
   "name": "python",
   "nbconvert_exporter": "python",
   "pygments_lexer": "ipython3",
   "version": "3.12.1"
  }
 },
 "nbformat": 4,
 "nbformat_minor": 2
}
